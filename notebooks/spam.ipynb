{
 "cells": [
  {
   "cell_type": "markdown",
   "metadata": {
    "pycharm": {
     "name": "#%% md\n"
    }
   },
   "source": [
    "# 基于朴素贝叶斯的垃圾邮件识别"
   ]
  },
  {
   "cell_type": "markdown",
   "metadata": {
    "pycharm": {
     "name": "#%% md\n"
    }
   },
   "source": [
    "## 加载数据\n",
    "使用`pandas`库加载位于`data/SMSSpamCollection.txt`处的垃圾邮件数据集，\n",
    "通过指定`train_size`参数来确定训练集所占的比重。"
   ]
  },
  {
   "cell_type": "code",
   "execution_count": 1,
   "metadata": {
    "pycharm": {
     "name": "#%%\n"
    }
   },
   "outputs": [],
   "source": [
    "def load_data(path, train_size=0.8):\n",
    "    \"\"\"\n",
    "    从指定路径加载垃圾邮件数据\n",
    "    :param path: 数据集路径\n",
    "    :param train_size: 训练集占数据集的比重，默认为0.8\n",
    "    :return: 按比例分割后的数据集\n",
    "    \"\"\"\n",
    "\n",
    "    class_names = ['labels', 'messages']\n",
    "    data = pd.read_csv(path, sep='\\\\t', header=None, names=class_names, engine='python')\n",
    "    datas, labels = data['messages'], data['labels']\n",
    "    _train_data, _test_data, _train_label, _test_label = train_test_split(datas, labels, train_size=train_size,\n",
    "                                                                          random_state=520)\n",
    "\n",
    "    return np.array(_train_data), np.array(_test_data), np.array(_train_label), np.array(_test_label)"
   ]
  },
  {
   "cell_type": "markdown",
   "metadata": {
    "pycharm": {
     "name": "#%% md\n"
    }
   },
   "source": [
    "## 词频向量化\n",
    "使用`sklearn.feature_extraction.text`库中的`CountVectorizer`类来对文本进行特征提取以得到词频矩阵。"
   ]
  },
  {
   "cell_type": "code",
   "execution_count": 2,
   "metadata": {
    "pycharm": {
     "name": "#%%\n"
    }
   },
   "outputs": [],
   "source": [
    "def transform(x, model='ft'):\n",
    "    \"\"\"\n",
    "    词频向量化\n",
    "    :param x: 文本\n",
    "    :param model: 向量化模式，值为ft表示使用fit_transform，为t表示使用transform\n",
    "    :return: 词频矩阵\n",
    "    \"\"\"\n",
    "\n",
    "    c = CountVectorizer()\n",
    "    if model == 'ft':\n",
    "        return c.fit_transform(x)\n",
    "    else:\n",
    "        return c.transform(x)"
   ]
  },
  {
   "cell_type": "markdown",
   "source": [
    "## 贝叶斯模型\n",
    "采用`sklearn.naive_bayes`中的`BernoulliNB`类来创建**伯努利朴素贝叶斯**分类器。"
   ],
   "metadata": {
    "collapsed": false,
    "pycharm": {
     "name": "#%% md\n"
    }
   }
  },
  {
   "cell_type": "code",
   "execution_count": null,
   "outputs": [],
   "source": [
    "class NaiveBayes:\n",
    "\n",
    "    def __init__(self):\n",
    "        self.x = None\n",
    "        self.y = None\n",
    "        self.model = None\n",
    "\n",
    "    def fit(self, x, y):\n",
    "        self.x = transform(x, 'ft')\n",
    "        self.y = y\n",
    "        self.model = BernoulliNB().fit(self.x, self.y)\n",
    "\n",
    "    def predict(self, text):\n",
    "        \"\"\"\n",
    "        将文本列表中的文本进行分类\n",
    "        :param text: 文本列表\n",
    "        :return: 分类后的结果\n",
    "        \"\"\"\n",
    "\n",
    "        return self.model.predict(transform(text, 't'))"
   ],
   "metadata": {
    "collapsed": false,
    "pycharm": {
     "name": "#%%\n"
    }
   }
  },
  {
   "cell_type": "markdown",
   "source": [
    "## 验证\n",
    "使用`utils/load_data`中的`load_data`方法导入数据集，创建朴素贝叶斯分类器并指定训练集后，通过调用`predict`方法来得到预测结果。"
   ],
   "metadata": {
    "collapsed": false,
    "pycharm": {
     "name": "#%% md\n"
    }
   }
  },
  {
   "cell_type": "code",
   "execution_count": null,
   "outputs": [],
   "source": [
    "from models.NaiveBayes import NaiveBayes\n",
    "from utils.load_data import load_data\n",
    "\n",
    "\n",
    "def main():\n",
    "    train_data, test_data, train_label, test_label = load_data('data/SMSSpamCollection.txt')\n",
    "    model = NaiveBayes()\n",
    "    model.fit(train_data, train_label)\n",
    "    print(model.predict(test_data))\n",
    "\n",
    "\n",
    "if __name__ == '__main__':\n",
    "    main()"
   ],
   "metadata": {
    "collapsed": false,
    "pycharm": {
     "name": "#%%\n"
    }
   }
  },
  {
   "cell_type": "code",
   "execution_count": 3,
   "metadata": {
    "pycharm": {
     "name": "#%%\n"
    }
   },
   "outputs": [],
   "source": [
    "class NaiveBayes:\n",
    "\n",
    "    def __init__(self):\n",
    "        self.x = None\n",
    "        self.y = None\n",
    "        self.model = None\n",
    "\n",
    "    def fit(self, x, y):\n",
    "        self.x = transform(x, 'ft')\n",
    "        self.y = y\n",
    "        self.model = BernoulliNB().fit(self.x, self.y)\n",
    "\n",
    "    def predict(self, text):\n",
    "        \"\"\"\n",
    "        将文本列表中的文本进行分类\n",
    "        :param text: 文本列表\n",
    "        :return: 分类后的结果\n",
    "        \"\"\"\n",
    "\n",
    "        return self.model.predict(transform(text, 't'))"
   ]
  },
  {
   "cell_type": "markdown",
   "metadata": {
    "pycharm": {
     "name": "#%% md\n"
    }
   },
   "source": [
    "## 验证\n",
    "使用`utils/load_data`中的`load_data`方法导入数据集，创建朴素贝叶斯分类器并指定训练集后，通过调用`predict`方法来得到预测结果。"
   ]
  },
  {
   "cell_type": "code",
   "execution_count": null,
   "metadata": {
    "pycharm": {
     "name": "#%%\n"
    }
   },
   "outputs": [],
   "source": [
    "from models.NaiveBayes import NaiveBayes\n",
    "from utils.load_data import load_data\n",
    "\n",
    "\n",
    "def main():\n",
    "    train_data, test_data, train_label, test_label = load_data('data/SMSSpamCollection.txt')\n",
    "    model = NaiveBayes()\n",
    "    model.fit(train_data, train_label)\n",
    "    print(model.predict(test_data))\n",
    "\n",
    "\n",
    "if __name__ == '__main__':\n",
    "    main()"
   ]
  }
 ],
 "metadata": {
  "kernelspec": {
   "display_name": "Python 3 (ipykernel)",
   "language": "python",
   "name": "python3"
  },
  "language_info": {
   "codemirror_mode": {
    "name": "ipython",
    "version": 3
   },
   "file_extension": ".py",
   "mimetype": "text/x-python",
   "name": "python",
   "nbconvert_exporter": "python",
   "pygments_lexer": "ipython3",
   "version": "3.9.12"
  }
 },
 "nbformat": 4,
 "nbformat_minor": 1
}